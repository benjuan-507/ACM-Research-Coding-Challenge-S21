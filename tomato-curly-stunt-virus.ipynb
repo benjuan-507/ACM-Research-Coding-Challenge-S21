{
 "cells": [
  {
   "cell_type": "code",
   "execution_count": 11,
   "id": "wooden-diameter",
   "metadata": {},
   "outputs": [],
   "source": [
    "from reportlab.lib import colors\n",
    "from reportlab.lib.units import cm\n",
    "from Bio.Graphics import GenomeDiagram\n",
    "from Bio import SeqIO\n",
    "record = SeqIO.read(\"Genome.gb\", \"genbank\")"
   ]
  },
  {
   "cell_type": "code",
   "execution_count": 12,
   "id": "friendly-miller",
   "metadata": {},
   "outputs": [],
   "source": [
    "gd_diagram = GenomeDiagram.Diagram(\"Tomato Curly Stunt Virus\")\n",
    "gd_track_for_features = gd_diagram.new_track(1, name = \"Annotated Features\")\n",
    "gd_feature_set = gd_track_for_features.new_set()"
   ]
  },
  {
   "cell_type": "code",
   "execution_count": 13,
   "id": "unavailable-natural",
   "metadata": {},
   "outputs": [],
   "source": [
    "for feature in record.features:\n",
    "    if feature.type != \"gene\":\n",
    "        continue\n",
    "    if len(gd_feature_set) % 2 == 0:\n",
    "        color = colors.blue\n",
    "    else:\n",
    "        color = colors.lightblue\n",
    "    gd_feature_set.add_feature(feature, sigil = \"ARROW\", color=color, label=True, label_size = 14, label_angle = 0)"
   ]
  },
  {
   "cell_type": "code",
   "execution_count": 14,
   "id": "particular-mumbai",
   "metadata": {},
   "outputs": [],
   "source": [
    "gd_diagram.draw(format = \"circular\", circular = True, pagesize = (20*cm,20*cm), start = 0, end = len(record), circle_core = 0.7)\n",
    "gd_diagram.write(\"tomato_curly_stunt_virus.png\",\"PNG\")"
   ]
  }
 ],
 "metadata": {
  "kernelspec": {
   "display_name": "Python 3",
   "language": "python",
   "name": "python3"
  },
  "language_info": {
   "codemirror_mode": {
    "name": "ipython",
    "version": 3
   },
   "file_extension": ".py",
   "mimetype": "text/x-python",
   "name": "python",
   "nbconvert_exporter": "python",
   "pygments_lexer": "ipython3",
   "version": "3.8.5"
  }
 },
 "nbformat": 4,
 "nbformat_minor": 5
}
