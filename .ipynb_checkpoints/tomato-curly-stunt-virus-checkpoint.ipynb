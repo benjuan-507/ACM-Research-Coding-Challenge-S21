{
 "cells": [
  {
   "cell_type": "code",
   "execution_count": 11,
   "id": "anticipated-plasma",
   "metadata": {},
   "outputs": [],
   "source": [
    "from reportlab.lib import colors\n",
    "from reportlab.lib.units import cm\n",
    "from Bio.Graphics import GenomeDiagram\n",
    "from Bio import SeqIO\n",
    "record = SeqIO.read(\"Genome.gb\", \"genbank\")"
   ]
  },
  {
   "cell_type": "code",
   "execution_count": 12,
   "id": "developing-madness",
   "metadata": {},
   "outputs": [],
   "source": [
    "gd_diagram = GenomeDiagram.Diagram(\"Tomato Curly Stunt Virus\")\n",
    "gd_track_for_features = gd_diagram.new_track(1, name = \"Annotated Features\")\n",
    "gd_feature_set = gd_track_for_features.new_set()"
   ]
  },
  {
   "cell_type": "code",
   "execution_count": 15,
   "id": "furnished-fraud",
   "metadata": {},
   "outputs": [
    {
     "name": "stdout",
     "output_type": "stream",
     "text": [
      "hello\n"
     ]
    }
   ],
   "source": [
    "for feature in record.features:\n",
    "    if feature.type != \"gene\":\n",
    "        continue\n",
    "    if len(gd_feature_set) % 2 == 0:\n",
    "        color = colors.blue\n",
    "    else:\n",
    "        color = colors.lightblue\n",
    "    gd_feature_set.add_feature(feature, color=color, label=True)"
   ]
  },
  {
   "cell_type": "code",
   "execution_count": 14,
   "id": "ancient-logic",
   "metadata": {},
   "outputs": [],
   "source": [
    "gd_diagram.draw(format = \"circular\", circular = True, pagesize = (20*cm,20*cm), start = 0, end = len(record), circle_core = 0.7)\n",
    "gd_diagram.write(\"tomato_curly_stunt_virus.png\",\"PNG\")"
   ]
  },
  {
   "cell_type": "code",
   "execution_count": null,
   "id": "incorrect-thompson",
   "metadata": {},
   "outputs": [],
   "source": []
  },
  {
   "cell_type": "code",
   "execution_count": null,
   "id": "introductory-float",
   "metadata": {},
   "outputs": [],
   "source": []
  },
  {
   "cell_type": "code",
   "execution_count": null,
   "id": "polished-badge",
   "metadata": {},
   "outputs": [],
   "source": []
  },
  {
   "cell_type": "code",
   "execution_count": null,
   "id": "accompanied-allowance",
   "metadata": {},
   "outputs": [],
   "source": []
  }
 ],
 "metadata": {
  "kernelspec": {
   "display_name": "Python 3",
   "language": "python",
   "name": "python3"
  }
 },
 "nbformat": 4,
 "nbformat_minor": 5
}
